{
 "metadata": {
  "language_info": {
   "codemirror_mode": {
    "name": "ipython",
    "version": 3
   },
   "file_extension": ".py",
   "mimetype": "text/x-python",
   "name": "python",
   "nbconvert_exporter": "python",
   "pygments_lexer": "ipython3",
   "version": "3.7.6-final"
  },
  "orig_nbformat": 2,
  "kernelspec": {
   "name": "python_defaultSpec_1598473668554",
   "display_name": "Python 3.7.6 64-bit"
  }
 },
 "nbformat": 4,
 "nbformat_minor": 2,
 "cells": [
  {
   "cell_type": "code",
   "execution_count": 1,
   "metadata": {},
   "outputs": [],
   "source": [
    "#Ejercicio 1\n",
    "#Crea una lista \"Asignatura\" con los textos \"matematicas\",\"fisica\",\"historia\"\n",
    "#Crea una lista \"notas\" con los valores 9,9,8\n",
    "#Crea una serie con la lista \"notas\" como valores, y la lista \"asignaturas\" como indices\n",
    "#Crea la variable \"nota_fisica\" con la nota de la asignatura \"fisica\"\n",
    "#Mediante el metodo \"print\" muesta la frase \"La nota de fisica es un ...\""
   ]
  },
  {
   "cell_type": "code",
   "execution_count": 2,
   "metadata": {},
   "outputs": [],
   "source": [
    "import numpy as np\n",
    "import pandas as pd"
   ]
  },
  {
   "cell_type": "code",
   "execution_count": 3,
   "metadata": {},
   "outputs": [
    {
     "output_type": "execute_result",
     "data": {
      "text/plain": "['Matematicas', 'Fisica', 'Historia']"
     },
     "metadata": {},
     "execution_count": 3
    }
   ],
   "source": [
    "asignaturas = ['Matematicas','Fisica','Historia']\n",
    "asignaturas"
   ]
  },
  {
   "cell_type": "code",
   "execution_count": 4,
   "metadata": {},
   "outputs": [
    {
     "output_type": "execute_result",
     "data": {
      "text/plain": "[9, 9, 8]"
     },
     "metadata": {},
     "execution_count": 4
    }
   ],
   "source": [
    "notas= [9,9,8]\n",
    "notas"
   ]
  },
  {
   "cell_type": "code",
   "execution_count": 5,
   "metadata": {},
   "outputs": [
    {
     "output_type": "execute_result",
     "data": {
      "text/plain": "Matematicas    9\nFisica         9\nHistoria       8\ndtype: int64"
     },
     "metadata": {},
     "execution_count": 5
    }
   ],
   "source": [
    "serie = pd.Series(data=notas, index=asignaturas)\n",
    "serie"
   ]
  },
  {
   "cell_type": "code",
   "execution_count": 6,
   "metadata": {},
   "outputs": [],
   "source": [
    "nota_fisica = serie['Fisica']"
   ]
  },
  {
   "cell_type": "code",
   "execution_count": 7,
   "metadata": {},
   "outputs": [
    {
     "output_type": "execute_result",
     "data": {
      "text/plain": "9"
     },
     "metadata": {},
     "execution_count": 7
    }
   ],
   "source": [
    "nota_fisica"
   ]
  },
  {
   "cell_type": "code",
   "execution_count": 8,
   "metadata": {
    "tags": []
   },
   "outputs": [
    {
     "output_type": "stream",
     "name": "stdout",
     "text": "La nota de fisica es: 9\n"
    }
   ],
   "source": [
    "print(\"La nota de fisica es: {}\".format(nota_fisica))"
   ]
  },
  {
   "cell_type": "code",
   "execution_count": null,
   "metadata": {},
   "outputs": [],
   "source": []
  }
 ]
}