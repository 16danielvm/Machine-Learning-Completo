{
 "metadata": {
  "language_info": {
   "codemirror_mode": {
    "name": "ipython",
    "version": 3
   },
   "file_extension": ".py",
   "mimetype": "text/x-python",
   "name": "python",
   "nbconvert_exporter": "python",
   "pygments_lexer": "ipython3",
   "version": "3.7.6-final"
  },
  "orig_nbformat": 2,
  "kernelspec": {
   "name": "python_defaultSpec_1598474288336",
   "display_name": "Python 3.7.6 64-bit"
  }
 },
 "nbformat": 4,
 "nbformat_minor": 2,
 "cells": [
  {
   "cell_type": "code",
   "execution_count": 1,
   "metadata": {},
   "outputs": [],
   "source": [
    "#Ejercicio2\n",
    "#El objetivo es crear un dataframe con las ventas de nuestras 3 oficina para los meses de enero, febrero y marzo.\n",
    "#Pasos a seguir:\n",
    "#Crea una variable \"ventas_enero\" que contenga una lista de 3 numeros enteros aleatorios entre 100 y 500\n",
    "#Crea una variable \"ventas_febrero\" que contenga una lista de 3 numeros enteros entre 100 y 500\n",
    "#Crea una variable \"ventas_marzo\" que contenga una lista de 3 numeros enteros aleatorios entre 100 y 500\n",
    "#Crea una variable \"filas\" que contenga esta lista de palabras: Las ventas\n",
    "#Crea una variable \"columnas\" que contenga una lista de palabras: 'oficina_1','oficina_2','oficina_3'\n",
    "#Crea una variable \"ventas\" que contenga una lista con los valores de ventas de enero, febrero y marzo\n",
    "#Crea una variable \"dataframe\" que contenga las ventas, filas, y columnas\n",
    "#Mediante \"print\" muestra el valor de \"Las ventas de enero para la oficina_1 son de ...\""
   ]
  },
  {
   "cell_type": "code",
   "execution_count": 2,
   "metadata": {},
   "outputs": [],
   "source": [
    "import pandas as pd\n",
    "import numpy as np"
   ]
  },
  {
   "cell_type": "code",
   "execution_count": 7,
   "metadata": {},
   "outputs": [],
   "source": [
    "ventas_enero = np.random.randint(100,500,3)\n",
    "ventas_febrero = np.random.randint(100,500,3)\n",
    "ventas_marzo = np.random.randint(100,500,3)"
   ]
  },
  {
   "cell_type": "code",
   "execution_count": 8,
   "metadata": {},
   "outputs": [],
   "source": [
    "filas = ['ventas_enero','ventas_febrero','ventas_marzo']"
   ]
  },
  {
   "cell_type": "code",
   "execution_count": 9,
   "metadata": {},
   "outputs": [],
   "source": [
    "columnas = ['oficina_1','oficina_2','oficina_3']"
   ]
  },
  {
   "cell_type": "code",
   "execution_count": 10,
   "metadata": {},
   "outputs": [],
   "source": [
    "ventas = [ventas_enero, ventas_febrero, ventas_marzo]"
   ]
  },
  {
   "cell_type": "code",
   "execution_count": 13,
   "metadata": {},
   "outputs": [
    {
     "output_type": "execute_result",
     "data": {
      "text/plain": "                oficina_1  oficina_2  oficina_3\nventas_enero          184        354        340\nventas_febrero        275        346        293\nventas_marzo          123        162        198",
      "text/html": "<div>\n<style scoped>\n    .dataframe tbody tr th:only-of-type {\n        vertical-align: middle;\n    }\n\n    .dataframe tbody tr th {\n        vertical-align: top;\n    }\n\n    .dataframe thead th {\n        text-align: right;\n    }\n</style>\n<table border=\"1\" class=\"dataframe\">\n  <thead>\n    <tr style=\"text-align: right;\">\n      <th></th>\n      <th>oficina_1</th>\n      <th>oficina_2</th>\n      <th>oficina_3</th>\n    </tr>\n  </thead>\n  <tbody>\n    <tr>\n      <th>ventas_enero</th>\n      <td>184</td>\n      <td>354</td>\n      <td>340</td>\n    </tr>\n    <tr>\n      <th>ventas_febrero</th>\n      <td>275</td>\n      <td>346</td>\n      <td>293</td>\n    </tr>\n    <tr>\n      <th>ventas_marzo</th>\n      <td>123</td>\n      <td>162</td>\n      <td>198</td>\n    </tr>\n  </tbody>\n</table>\n</div>"
     },
     "metadata": {},
     "execution_count": 13
    }
   ],
   "source": [
    "dataframe = pd.DataFrame(ventas,filas,columnas) #DATOS, FILAS, COLUMNAS\n",
    "dataframe"
   ]
  },
  {
   "cell_type": "code",
   "execution_count": 17,
   "metadata": {},
   "outputs": [],
   "source": [
    "dato = dataframe['oficina_1']['ventas_enero'] #Primero fila luego columna"
   ]
  },
  {
   "cell_type": "code",
   "execution_count": 18,
   "metadata": {
    "tags": []
   },
   "outputs": [
    {
     "output_type": "stream",
     "name": "stdout",
     "text": "Las ventas de enero para la oficina_1 son de 184\n"
    }
   ],
   "source": [
    "print(\"Las ventas de enero para la oficina_1 son de {}\".format(dato))"
   ]
  },
  {
   "cell_type": "code",
   "execution_count": null,
   "metadata": {},
   "outputs": [],
   "source": []
  }
 ]
}