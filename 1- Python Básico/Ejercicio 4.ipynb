{
 "metadata": {
  "language_info": {
   "codemirror_mode": {
    "name": "ipython",
    "version": 3
   },
   "file_extension": ".py",
   "mimetype": "text/x-python",
   "name": "python",
   "nbconvert_exporter": "python",
   "pygments_lexer": "ipython3",
   "version": 3
  },
  "orig_nbformat": 2,
  "kernelspec": {
   "name": "python_defaultSpec_1596501795402",
   "display_name": "Python 3.7.6 64-bit"
  }
 },
 "nbformat": 4,
 "nbformat_minor": 2,
 "cells": [
  {
   "cell_type": "code",
   "execution_count": 1,
   "metadata": {},
   "outputs": [],
   "source": [
    "#Ejercicio 4\n",
    "#Crear una funcion 'dividir_entre_dos', que divide un numero en el numero '2' y devuelve el resultado\n",
    "#Dada la siguiente lista=[20,18,8,4,10,40,6]\n",
    "#Crear una nueva lista 'lista2' que mediante la funcion \"map\" aplique la funcion 'dividir_entre_dos' a cada elemento de la lista"
   ]
  },
  {
   "cell_type": "code",
   "execution_count": 2,
   "metadata": {},
   "outputs": [],
   "source": [
    "def dividir_entre_dos(numero):\n",
    "    return numero/2"
   ]
  },
  {
   "cell_type": "code",
   "execution_count": 3,
   "metadata": {},
   "outputs": [],
   "source": [
    "lista=[20,18,8,4,10,40,6]"
   ]
  },
  {
   "cell_type": "code",
   "execution_count": 6,
   "metadata": {},
   "outputs": [],
   "source": [
    "lista2=list(map(dividir_entre_dos,lista))"
   ]
  },
  {
   "cell_type": "code",
   "execution_count": 7,
   "metadata": {},
   "outputs": [
    {
     "output_type": "execute_result",
     "data": {
      "text/plain": "[10.0, 9.0, 4.0, 2.0, 5.0, 20.0, 3.0]"
     },
     "metadata": {},
     "execution_count": 7
    }
   ],
   "source": [
    "lista2"
   ]
  }
 ]
}